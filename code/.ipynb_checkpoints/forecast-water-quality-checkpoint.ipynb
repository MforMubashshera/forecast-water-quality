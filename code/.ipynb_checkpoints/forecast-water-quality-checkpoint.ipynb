{
 "cells": [
  {
   "cell_type": "code",
   "execution_count": null,
   "id": "af89dd16",
   "metadata": {},
   "outputs": [],
   "source": [
    "# !pip install git+https://github.com/ourownstory/neural_prophet.git"
   ]
  },
  {
   "cell_type": "code",
   "execution_count": null,
   "id": "61990901",
   "metadata": {},
   "outputs": [],
   "source": [
    "import matplotlib as mpl\n",
    "mpl.rcParams[\"figure.dpi\"] = 150\n",
    "savefig_options = dict(format=\"png\", bbox_inches=\"tight\")"
   ]
  },
  {
   "cell_type": "code",
   "execution_count": null,
   "id": "e425b74d",
   "metadata": {},
   "outputs": [],
   "source": [
    "import pandas as pd\n",
    "\n",
    "import matplotlib.pyplot as plt\n",
    "\n",
    "from neuralprophet import NeuralProphet"
   ]
  },
  {
   "cell_type": "code",
   "execution_count": null,
   "id": "139581ea",
   "metadata": {},
   "outputs": [],
   "source": [
    "INPUT_DATA_PATH = \"https://raw.githubusercontent.com/MforMubashshera/forecast-water-quality/development-nms/data/\"\n",
    "\n",
    "label = \"colifast_LAE\"\n",
    "df = pd.read_csv(\n",
    "    INPUT_DATA_PATH + label + \".csv\",\n",
    "    parse_dates=[\"timestamp\"]\n",
    ")\n",
    "\n",
    "df = pd.DataFrame({\"ds\": df[\"timestamp\"], \"y\": df[\"colifast_LAE\"]})"
   ]
  },
  {
   "cell_type": "code",
   "execution_count": null,
   "id": "5904ac2b",
   "metadata": {},
   "outputs": [],
   "source": [
    "# load data ata\n",
    "\n",
    "df = df[[\"timestamp\", \"colifast_LAE\"]]\n",
    "df.rename(columns={\"timestamp\": \"ds\", \"colifast_LAE\": \"y\"}, inplace=True)"
   ]
  },
  {
   "cell_type": "code",
   "execution_count": null,
   "id": "27091509",
   "metadata": {},
   "outputs": [],
   "source": [
    "# 24-steps ahead Neural Model with Long AR\n",
    "model = NeuralProphet(\n",
    "    n_forecasts=24,\n",
    "    n_lags=7*24,\n",
    "    learning_rate=0.01,\n",
    "    num_hidden_layers=1,\n",
    "    d_hidden=16,\n",
    ")\n",
    "model = model.highlight_nth_step_ahead_of_each_forecast(24)\n",
    "metrics = model.fit(df, freq=\"H\")"
   ]
  },
  {
   "cell_type": "code",
   "execution_count": null,
   "id": "6c003355",
   "metadata": {},
   "outputs": [],
   "source": [
    "future = model.make_future_dataframe(df, periods=3, n_historic_predictions=len(df))\n",
    "forecast = model.predict(future)"
   ]
  },
  {
   "cell_type": "code",
   "execution_count": null,
   "id": "749dae93",
   "metadata": {},
   "outputs": [],
   "source": [
    "fig, ax = plt.subplots(figsize=(14, 10))\n",
    "model.plot(forecast, xlabel=\"timestamp\", ylabel=\"colifast_LAE\", ax=ax)\n",
    "\n",
    "ax.xaxis.label.set_size(28)\n",
    "ax.yaxis.label.set_size(28)\n",
    "ax.tick_params(axis=\"both\", which=\"major\", labelsize=24)\n",
    "ax.set_title(\"colifast\", fontsize=28, fontweight=\"bold\")\n",
    "\n",
    "fig.savefig(\"forecast_water_quality_cLAE.png\", **savefig_options)"
   ]
  },
  {
   "cell_type": "code",
   "execution_count": null,
   "id": "b527c4be",
   "metadata": {},
   "outputs": [],
   "source": [
    "fig_param = model.plot_parameters()\n",
    "fig_param.savefig(\"parameters_cLAE.png\", **savefig_options)"
   ]
  },
  {
   "cell_type": "code",
   "execution_count": null,
   "id": "c8904fa5",
   "metadata": {},
   "outputs": [],
   "source": [
    "fig, ax = plt.subplots(figsize=(14, 10))\n",
    "ax.plot(metrics[\"MAE\"], \"ob\", linewidth=6, label=\"Training Loss\")  \n",
    "ax.plot(metrics[\"MAE_val\"], \"-r\", linewidth=2, label=\"Validation Loss\")\n",
    "\n",
    "ax.legend(loc=\"center right\", fontsize=16)\n",
    "ax.tick_params(axis=\"both\", which=\"major\", labelsize=20)\n",
    "ax.set_xlabel(\"Epoch\", fontsize=28, fontweight=\"bold\")\n",
    "ax.set_ylabel(\"Loss\", fontsize=28, fontweight=\"bold\")\n",
    "\n",
    "ax.set_title(\"Model Loss (MAE)\", fontsize=28, fontweight=\"bold\")\n",
    "fig.savefig(\"model_loss_mae_cLAE.png\", **savefig_options)"
   ]
  },
  {
   "cell_type": "markdown",
   "id": "74c91d96",
   "metadata": {},
   "source": [
    "---"
   ]
  }
 ],
 "metadata": {
  "kernelspec": {
   "display_name": "Python 3 (ipykernel)",
   "language": "python",
   "name": "python3"
  },
  "language_info": {
   "codemirror_mode": {
    "name": "ipython",
    "version": 3
   },
   "file_extension": ".py",
   "mimetype": "text/x-python",
   "name": "python",
   "nbconvert_exporter": "python",
   "pygments_lexer": "ipython3",
   "version": "3.8.12"
  }
 },
 "nbformat": 4,
 "nbformat_minor": 5
}
